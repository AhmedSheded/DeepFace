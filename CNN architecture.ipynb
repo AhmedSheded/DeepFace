{
 "cells": [
  {
   "cell_type": "code",
   "execution_count": 10,
   "metadata": {
    "collapsed": true
   },
   "outputs": [],
   "source": [
    "from keras.layers import Conv2D, MaxPool2D, LocallyConnected2D, Flatten, Dense, Dropout\n",
    "from keras import Sequential\n",
    "from keras import Model\n",
    "import numpy as np\n",
    "import os"
   ]
  },
  {
   "cell_type": "code",
   "execution_count": 2,
   "outputs": [],
   "source": [
    "os.chdir('data')"
   ],
   "metadata": {
    "collapsed": false
   }
  },
  {
   "cell_type": "code",
   "execution_count": 7,
   "outputs": [],
   "source": [
    "def create_model():\n",
    "    model = Sequential()\n",
    "    model.add(Conv2D(32, (11, 11), activation='relu', name='C1', input_shape=(152, 152, 3)))\n",
    "    model.add(MaxPool2D(pool_size=3, strides=2, padding='same', name='M2'))\n",
    "    model.add(Conv2D(16, (9, 9), activation='relu', name='C3'))\n",
    "    model.add(LocallyConnected2D(16, (9, 9), activation='relu', name='L4'))\n",
    "    model.add(LocallyConnected2D(16, (7, 7), strides=2, activation='relu', name='L5') )\n",
    "    model.add(LocallyConnected2D(16, (5, 5), activation='relu', name='L6'))\n",
    "    model.add(Flatten(name='F0'))\n",
    "    model.add(Dense(4096, activation='relu', name='F7'))\n",
    "    model.add(Dropout(rate=0.5, name='D0'))\n",
    "    model.add(Dense(8631, activation='softmax', name='F8'))\n",
    "    model.load_weights('VGGFace2_DeepFace_weights_val-0.9034.h5')\n",
    "    return model"
   ],
   "metadata": {
    "collapsed": false
   }
  },
  {
   "cell_type": "code",
   "execution_count": 8,
   "outputs": [],
   "source": [
    "model = create_model()"
   ],
   "metadata": {
    "collapsed": false
   }
  },
  {
   "cell_type": "code",
   "execution_count": 9,
   "outputs": [],
   "source": [
    "deepface = Model(inputs=model.layers[0].input, outputs=model.layers[-3].output)"
   ],
   "metadata": {
    "collapsed": false
   }
  },
  {
   "cell_type": "code",
   "execution_count": 11,
   "outputs": [],
   "source": [
    "def l2_normalize(x):\n",
    "    return x /np.sqrt(np.sum(np.multiply(x, x)))\n",
    "\n",
    "def findEuclideanDistance(source_representation, test_representation):\n",
    "    euclidean_distance = source_representation - test_representation\n",
    "    euclidean_distance = np.sum(np.multiply(euclidean_distance, euclidean_distance))\n",
    "    euclidean_distance = np.sqrt(euclidean_distance)\n",
    "    return euclidean_distance"
   ],
   "metadata": {
    "collapsed": false
   }
  },
  {
   "cell_type": "code",
   "execution_count": null,
   "outputs": [],
   "source": [
    "img1_embedding = model.predict(\"img1.jpg\")[0]\n",
    "img2_embedding = model.predict(\"img2.jpg\")[0]\n",
    "\n",
    "euclidean_l2_distance = findEuclideanDistance(l2_normalize(img1_embedding) , l2_normalize(img2_embedding))"
   ],
   "metadata": {
    "collapsed": false
   }
  },
  {
   "cell_type": "code",
   "execution_count": 12,
   "outputs": [
    {
     "name": "stdout",
     "output_type": "stream",
     "text": [
      "Model: \"sequential_1\"\n",
      "_________________________________________________________________\n",
      " Layer (type)                Output Shape              Param #   \n",
      "=================================================================\n",
      " C1 (Conv2D)                 (None, 142, 142, 32)      11648     \n",
      "                                                                 \n",
      " M2 (MaxPooling2D)           (None, 71, 71, 32)        0         \n",
      "                                                                 \n",
      " C3 (Conv2D)                 (None, 63, 63, 16)        41488     \n",
      "                                                                 \n",
      " L4 (LocallyConnected2D)     (None, 55, 55, 16)        62774800  \n",
      "                                                                 \n",
      " L5 (LocallyConnected2D)     (None, 25, 25, 16)        7850000   \n",
      "                                                                 \n",
      " L6 (LocallyConnected2D)     (None, 21, 21, 16)        2829456   \n",
      "                                                                 \n",
      " F0 (Flatten)                (None, 7056)              0         \n",
      "                                                                 \n",
      " F7 (Dense)                  (None, 4096)              28905472  \n",
      "                                                                 \n",
      " D0 (Dropout)                (None, 4096)              0         \n",
      "                                                                 \n",
      " F8 (Dense)                  (None, 8631)              35361207  \n",
      "                                                                 \n",
      "=================================================================\n",
      "Total params: 137,774,071\n",
      "Trainable params: 137,774,071\n",
      "Non-trainable params: 0\n",
      "_________________________________________________________________\n"
     ]
    }
   ],
   "source": [
    "model.summary()"
   ],
   "metadata": {
    "collapsed": false
   }
  },
  {
   "cell_type": "code",
   "execution_count": null,
   "outputs": [],
   "source": [],
   "metadata": {
    "collapsed": false
   }
  }
 ],
 "metadata": {
  "kernelspec": {
   "display_name": "Python 3",
   "language": "python",
   "name": "python3"
  },
  "language_info": {
   "codemirror_mode": {
    "name": "ipython",
    "version": 2
   },
   "file_extension": ".py",
   "mimetype": "text/x-python",
   "name": "python",
   "nbconvert_exporter": "python",
   "pygments_lexer": "ipython2",
   "version": "2.7.6"
  }
 },
 "nbformat": 4,
 "nbformat_minor": 0
}
