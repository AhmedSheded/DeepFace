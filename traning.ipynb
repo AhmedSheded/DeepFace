{
 "cells": [
  {
   "cell_type": "code",
   "execution_count": null,
   "metadata": {
    "collapsed": true,
    "pycharm": {
     "is_executing": true
    }
   },
   "outputs": [],
   "source": [
    "import keras\n",
    "import dataset\n",
    "import cv2 as cv"
   ]
  },
  {
   "cell_type": "code",
   "execution_count": 2,
   "outputs": [],
   "source": [
    "IMAGE_SIZE = (152, 152)\n",
    "CHANNELS = 3\n",
    "NUM_CLASSES = 8\n",
    "BATCH_SIZE = 1024\n",
    "LEARN_RATE = 0.01 * (BATCH_SIZE / 128)\n",
    "MOMENTUM = 0.9\n",
    "EPOCHS = 15"
   ],
   "metadata": {
    "collapsed": false
   }
  },
  {
   "cell_type": "code",
   "execution_count": 3,
   "outputs": [],
   "source": [
    "def create_deepface():\n",
    "    wt_init = keras.initializers.RandomNormal(mean=0, stddev=0.01)\n",
    "    bias_init = keras.initializers.Constant(value=0.5)\n",
    "\n",
    "    def conv2d_layer(**args):\n",
    "        return keras.layers.Conv2D(**args,\n",
    "                                   kernel_initializer=wt_init,\n",
    "                                   bias_initializer=bias_init,\n",
    "                                   activation='relu')\n",
    "    def lc2d_layer(**args):\n",
    "        return keras.layers.LocallyConnected2D(**args,\n",
    "                                               kernel_initializer=wt_init,\n",
    "                                               bias_initializer=bias_init,\n",
    "                                               activation='relu')\n",
    "    def dense_layer(**args):\n",
    "        return keras.layers.Dense(**args,\n",
    "                                  kernel_initializer=wt_init,\n",
    "                                  bias_initializer=bias_init)\n",
    "\n",
    "\n",
    "    deepface = keras.models.Sequential([\n",
    "        keras.layers.InputLayer(input_shape=(*IMAGE_SIZE, CHANNELS), name='I0'),\n",
    "        conv2d_layer(filters=32, kernel_size=11, name='C1'),\n",
    "        keras.layers.MaxPooling2D(pool_size=3, strides=2, padding='same',  name='M2'),\n",
    "        conv2d_layer(filters=16, kernel_size=9, name='C3'),\n",
    "        lc2d_layer(filters=16, kernel_size=9, name='L4'),\n",
    "        lc2d_layer(filters=16, kernel_size=7, strides=2, name='L5'),\n",
    "        lc2d_layer(filters=16, kernel_size=5, name='L6'),\n",
    "        keras.layers.Flatten(name='F0'),\n",
    "        dense_layer(units=4096, activation='relu', name='F7'),\n",
    "        keras.layers.Dropout(rate=0.4, name='D0'),\n",
    "        dense_layer(units=NUM_CLASSES, activation=keras.activations.softmax, name='F8')\n",
    "        ], name='DeepFace')\n",
    "\n",
    "    sgd_opt = keras.optimizers.SGD(lr=LEARN_RATE, momentum=MOMENTUM)\n",
    "    cce_loss = keras.losses.categorical_crossentropy\n",
    "\n",
    "    deepface.compile(optimizer=sgd_opt, loss=cce_loss, metrics=['accuracy'])\n",
    "    return deepface"
   ],
   "metadata": {
    "collapsed": false
   }
  },
  {
   "cell_type": "code",
   "execution_count": 4,
   "outputs": [],
   "source": [
    "labels, trainX, trainy, valX, valy = dataset.read_images('data/dataset', IMAGE_SIZE, 50)"
   ],
   "metadata": {
    "collapsed": false
   }
  },
  {
   "cell_type": "code",
   "execution_count": 5,
   "outputs": [
    {
     "name": "stdout",
     "output_type": "stream",
     "text": [
      "(280, 152, 152, 3)\n",
      "(280,)\n",
      "(70, 152, 152, 3)\n",
      "(70,)\n"
     ]
    }
   ],
   "source": [
    "print(trainX.shape)\n",
    "print(trainy.shape)\n",
    "\n",
    "print(valX.shape)\n",
    "print(valy.shape)"
   ],
   "metadata": {
    "collapsed": false
   }
  },
  {
   "cell_type": "code",
   "execution_count": 6,
   "outputs": [
    {
     "name": "stdout",
     "output_type": "stream",
     "text": [
      "4\n"
     ]
    }
   ],
   "source": [
    "i=33\n",
    "cv.imshow('test', trainX[i])\n",
    "print(trainy[i])\n",
    "cv.waitKey(0)\n",
    "cv.destroyAllWindows()"
   ],
   "metadata": {
    "collapsed": false
   }
  },
  {
   "cell_type": "code",
   "execution_count": 7,
   "outputs": [],
   "source": [
    "train_samples, val_samples = 2307424, 25893"
   ],
   "metadata": {
    "collapsed": false
   }
  },
  {
   "cell_type": "code",
   "execution_count": null,
   "outputs": [],
   "source": [
    "reduce_lr = keras.callbacks.ReduceLROnPlateau(monitor='val_loss', factor=0.1, patience=1, min_lr=0.0001, verbose=1)\n",
    "# tensorboard = keras.callbacks.TensorBoard(TB_PATH)\n",
    "checkpoints = keras.callbacks.ModelCheckpoint('weights.{epoch:02d}_{val_acc:.4f}.hdf5', monitor='val_acc', save_weights_only=True)\n",
    "cbs = [reduce_lr, checkpoints]\n",
    "deepface = create_deepface()"
   ],
   "metadata": {
    "collapsed": false,
    "pycharm": {
     "is_executing": true
    }
   }
  },
  {
   "cell_type": "code",
   "execution_count": null,
   "outputs": [],
   "source": [
    "train_history = deepface.fit(trainX, trainy, batch_size=64, validation_data=(valX, valy), callbacks=cbs, epochs=EPOCHS, verbose=1)"
   ],
   "metadata": {
    "collapsed": false,
    "pycharm": {
     "is_executing": true
    }
   }
  },
  {
   "cell_type": "code",
   "execution_count": null,
   "outputs": [],
   "source": [],
   "metadata": {
    "collapsed": false
   }
  }
 ],
 "metadata": {
  "kernelspec": {
   "display_name": "Python 3",
   "language": "python",
   "name": "python3"
  },
  "language_info": {
   "codemirror_mode": {
    "name": "ipython",
    "version": 2
   },
   "file_extension": ".py",
   "mimetype": "text/x-python",
   "name": "python",
   "nbconvert_exporter": "python",
   "pygments_lexer": "ipython2",
   "version": "2.7.6"
  }
 },
 "nbformat": 4,
 "nbformat_minor": 0
}
